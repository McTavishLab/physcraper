{
 "cells": [
  {
   "cell_type": "code",
   "execution_count": 15,
   "metadata": {},
   "outputs": [],
   "source": [
    "from physcraper import opentree_helpers\n",
    "from opentree import OT\n",
    "import dendropy\n",
    "import json\n",
    "import sys\n"
   ]
  },
  {
   "cell_type": "code",
   "execution_count": 9,
   "metadata": {},
   "outputs": [],
   "source": [
    "# Input alignemnt from treebase stored at https://github.com/McTavishLab/physcraper_example/blob/master/treebase_alns/pg_55tree5864_ndhf.aln\n",
    "# Data files created by running:\n",
    "# physcraper_run.py -s pg_55 -t tree5864 -a treebase_alns/pg_55tree5864_ndhf.aln -as \"nexus\" -db ~/ncbi/localblastdb/ -o pg_55\n"
   ]
  },
  {
   "cell_type": "code",
   "execution_count": 10,
   "metadata": {},
   "outputs": [],
   "source": [
    "updated_tre_path = \"pg_55/outputs_pg_55tree5864_ndhf/physcraper_pg_55tree5864_ndhf.tre\"\n",
    "otu_json_path = \"pg_55/run_pg_55tree5864_ndhf/otu_info_pg_55tree5864_ndhf.json\""
   ]
  },
  {
   "cell_type": "code",
   "execution_count": 11,
   "metadata": {},
   "outputs": [],
   "source": [
    "updated_tre = dendropy.Tree.get(path=updated_tre_path, schema = \"newick\")\n",
    "otu_dict = json.load(open(otu_json_path, \"r\"))"
   ]
  },
  {
   "cell_type": "code",
   "execution_count": 23,
   "metadata": {},
   "outputs": [],
   "source": [
    "#Choose outgroups and root\n",
    "outgroup = []"
   ]
  },
  {
   "cell_type": "code",
   "execution_count": 28,
   "metadata": {},
   "outputs": [
    {
     "name": "stdout",
     "output_type": "stream",
     "text": [
      "((_nd4_ott536207:0.003911694828330017,(((((_nd10_ott5551:0.0004593978522760431,_nd11_ott5551:0.006807994474845579)_nd9_:0.0024316068078051715,((_nd14_ott269819:0.00096967766451874,_nd15_ott269817:0.000480490847689628)_nd13_:0.0029006913045804567,(_nd17_ott793340:1.00000050002909e-06,_nd18_ott269815:0.0024882395706607476)_nd16_:0.0029331574751482532)_nd12_:1.00000050002909e-06)_nd8_:0.0004809847851856634,((_nd21_ott536243:0.003381028280635386,_nd22_ott108610:0.005174476457159359)_nd20_:0.0011003046554364077,(_nd24_ott638567:0.0009641915804151977,(_nd26_ott638569:0.0019341992464948308,_nd27_ott638567:0.0009547274669291637)_nd25_:1.00000050002909e-06)_nd23_:0.0033908362263461774)_nd19_:0.007332891570371064,(_nd29_ott595902:0.0019807536523385265,(_nd31_ott861917:0.0029018308796110856,(_nd33_ott578275:0.013118919150435926,(_nd35_ott312752:0.003953881957702714,_nd36_ott84784:0.005904945692878712)_nd34_:1.00000050002909e-06)_nd32_:0.0024140122068815367,(_nd38_ott827914:0.003414405886291387,((_nd41_ott5922473:0.006191325044630449,(_nd43_ott200325:0.00048548149402474853,(_nd45_ott659000:1.00000050002909e-06,_nd46_ott3942627:0.0004829787920020093)_nd44_:0.0004820163296267635)_nd42_:0.0074151587171709075)_nd40_:0.009080910774959922,_nd47_ott524603:0.017265502267463408)_nd39_:0.006119321365870877)_nd37_:0.00046301102383609953)_nd30_:0.000497171657120371)_nd28_:0.005758629096449112)_nd7_:0.0004633281148492348,(((_nd51_ott638559:0.0019283528718267633,(_nd53_ott770769:1.00000050002909e-06,_nd54_ott770769:1.00000050002909e-06)_nd52_:0.006243610822112239)_nd50_:1.00000050002909e-06,_nd55_ott638563:0.006289724282183706)_nd49_:0.00046654466348857365,(_nd57_ott638561:1.00000050002909e-06,_nd58_ott638557:1.00000050002909e-06)_nd56_:0.0009925745160646773)_nd48_:0.0072695935343267066)_nd6_:0.002418511682866941,(((_nd62_ott336228:0.005952070662500386,_nd63_ott638539:0.003411379179807653)_nd61_:0.0005182028921628625,(_nd65_ott283034:0.0042132772554833945,_nd66_ott269830:0.003295506040963587)_nd64_:0.0025925265442364957)_nd60_:0.0009570150976901022,(_nd68_ott269821:0.00047820730261907034,(_nd70_ott269827:1.00000050002909e-06,(_nd72_ott269825:0.00739114646171024,_nd73_ott269827:0.0014328640134791978)_nd71_:0.0028316881564816694)_nd69_:0.00047578572221859715)_nd67_:0.0033126315878511414)_nd59_:0.0010087371701643104)_nd5_:0.0009663196322428504)_nd3_:0.00047002719763436176,_nd74_ott1053097:0.001985270859650099,_nd75_ott793342:0.004932982374638995)_nd2_:0.0\n"
     ]
    }
   ],
   "source": [
    "tree_conf = opentree_helpers.conflict_tree(updated_tre, otu_dict)\n",
    "print(tree_conf)"
   ]
  },
  {
   "cell_type": "code",
   "execution_count": 13,
   "metadata": {},
   "outputs": [],
   "source": [
    "resp_updated = OT.conflict_str(tree_updated.as_string(schema=\"newick\"), 'ott')"
   ]
  },
  {
   "cell_type": "code",
   "execution_count": 27,
   "metadata": {},
   "outputs": [
    {
     "data": {
      "text/plain": [
       "{'nd10': {'status': 'terminal',\n",
       "  'witness': 'ott5551',\n",
       "  'witness_name': 'Brachychiton acerifolius'},\n",
       " 'nd12': {'status': 'resolved_by',\n",
       "  'witness': 'ott996482',\n",
       "  'witness_name': 'Sterculioideae'},\n",
       " 'nd13': {'status': 'supported_by',\n",
       "  'witness': 'ott269823',\n",
       "  'witness_name': 'Acropogon (genus in kingdom Archaeplastida)'},\n",
       " 'nd14': {'status': 'terminal',\n",
       "  'witness': 'ott269819',\n",
       "  'witness_name': 'Acropogon bullatus'},\n",
       " 'nd15': {'status': 'terminal',\n",
       "  'witness': 'ott269817',\n",
       "  'witness_name': 'Acropogon dzumacensis'},\n",
       " 'nd16': {'status': 'resolved_by',\n",
       "  'witness': 'ott996482',\n",
       "  'witness_name': 'Sterculioideae'},\n",
       " 'nd17': {'status': 'terminal',\n",
       "  'witness': 'ott793340',\n",
       "  'witness_name': 'Franciscodendron laurifolium'},\n",
       " 'nd18': {'status': 'terminal',\n",
       "  'witness': 'ott269815',\n",
       "  'witness_name': 'Argyrodendron peralatum'},\n",
       " 'nd19': {'status': 'supported_by',\n",
       "  'witness': 'ott526990',\n",
       "  'witness_name': 'Heritiera'},\n",
       " 'nd20': {'status': 'resolved_by',\n",
       "  'witness': 'ott526990',\n",
       "  'witness_name': 'Heritiera'},\n",
       " 'nd21': {'status': 'terminal',\n",
       "  'witness': 'ott536243',\n",
       "  'witness_name': 'Heritiera elata'},\n",
       " 'nd22': {'status': 'terminal',\n",
       "  'witness': 'ott108610',\n",
       "  'witness_name': 'Heritiera littoralis'},\n",
       " 'nd23': {'status': 'resolved_by',\n",
       "  'witness': 'ott526990',\n",
       "  'witness_name': 'Heritiera'},\n",
       " 'nd24': {'status': 'terminal',\n",
       "  'witness': 'ott638567',\n",
       "  'witness_name': 'Heritiera aurea'},\n",
       " 'nd25': {'status': 'terminal',\n",
       "  'witness': 'ott638569',\n",
       "  'witness_name': 'Heritiera simplicifolia'},\n",
       " 'nd26': {'status': 'terminal',\n",
       "  'witness': 'ott638569',\n",
       "  'witness_name': 'Heritiera simplicifolia'},\n",
       " 'nd28': {'status': 'resolved_by',\n",
       "  'witness': 'ott279960',\n",
       "  'witness_name': 'Malvaceae'},\n",
       " 'nd29': {'status': 'terminal',\n",
       "  'witness': 'ott595902',\n",
       "  'witness_name': 'Septotheca tessmannii'},\n",
       " 'nd3': {'status': 'conflicts_with',\n",
       "  'witness': 'ott996482',\n",
       "  'witness_name': 'Sterculioideae'},\n",
       " 'nd30': {'status': 'conflicts_with',\n",
       "  'witness': 'ott520279',\n",
       "  'witness_name': 'Bombacoideae'},\n",
       " 'nd31': {'status': 'terminal',\n",
       "  'witness': 'ott861917',\n",
       "  'witness_name': 'Ochroma pyramidale'},\n",
       " 'nd32': {'status': 'resolved_by',\n",
       "  'witness': 'ott520279',\n",
       "  'witness_name': 'Bombacoideae'},\n",
       " 'nd33': {'status': 'terminal',\n",
       "  'witness': 'ott578275',\n",
       "  'witness_name': 'Spirotheca rosea'},\n",
       " 'nd34': {'status': 'resolved_by',\n",
       "  'witness': 'ott520279',\n",
       "  'witness_name': 'Bombacoideae'},\n",
       " 'nd35': {'status': 'terminal',\n",
       "  'witness': 'ott312752',\n",
       "  'witness_name': 'Bombax buonopozense'},\n",
       " 'nd36': {'status': 'terminal',\n",
       "  'witness': 'ott84784',\n",
       "  'witness_name': 'Pachira aquatica'},\n",
       " 'nd37': {'status': 'conflicts_with',\n",
       "  'witness': 'ott520279',\n",
       "  'witness_name': 'Bombacoideae'},\n",
       " 'nd38': {'status': 'terminal',\n",
       "  'witness': 'ott827914',\n",
       "  'witness_name': 'Fremontodendron californicum'},\n",
       " 'nd39': {'status': 'supported_by',\n",
       "  'witness': 'ott469942',\n",
       "  'witness_name': 'Malvoideae'},\n",
       " 'nd4': {'status': 'terminal',\n",
       "  'witness': 'ott536207',\n",
       "  'witness_name': 'Octolobus spectabilis'},\n",
       " 'nd40': {'status': 'resolved_by',\n",
       "  'witness': 'ott469942',\n",
       "  'witness_name': 'Malvoideae'},\n",
       " 'nd41': {'status': 'terminal',\n",
       "  'witness': 'ott5922473',\n",
       "  'witness_name': 'Cephalohibiscus peekelii'},\n",
       " 'nd42': {'status': 'supported_by',\n",
       "  'witness': 'ott659002',\n",
       "  'witness_name': 'Kokia (genus in kingdom Archaeplastida)'},\n",
       " 'nd43': {'status': 'terminal',\n",
       "  'witness': 'ott200325',\n",
       "  'witness_name': 'Kokia kauaiensis'},\n",
       " 'nd44': {'status': 'resolved_by',\n",
       "  'witness': 'ott659002',\n",
       "  'witness_name': 'Kokia (genus in kingdom Archaeplastida)'},\n",
       " 'nd45': {'status': 'terminal',\n",
       "  'witness': 'ott659000',\n",
       "  'witness_name': 'Kokia drynarioides'},\n",
       " 'nd46': {'status': 'terminal',\n",
       "  'witness': 'ott3942627',\n",
       "  'witness_name': 'Kokia cookei'},\n",
       " 'nd47': {'status': 'terminal',\n",
       "  'witness': 'ott524603',\n",
       "  'witness_name': 'Macrostelia laurina'},\n",
       " 'nd48': {'status': 'supported_by',\n",
       "  'witness': 'ott861909',\n",
       "  'witness_name': 'Sterculia'},\n",
       " 'nd49': {'status': 'resolved_by',\n",
       "  'witness': 'ott861909',\n",
       "  'witness_name': 'Sterculia'},\n",
       " 'nd5': {'status': 'conflicts_with',\n",
       "  'witness': 'ott996482',\n",
       "  'witness_name': 'Sterculioideae'},\n",
       " 'nd50': {'status': 'resolved_by',\n",
       "  'witness': 'ott861909',\n",
       "  'witness_name': 'Sterculia'},\n",
       " 'nd51': {'status': 'terminal',\n",
       "  'witness': 'ott638559',\n",
       "  'witness_name': 'Sterculia balanghas'},\n",
       " 'nd52': {'status': 'terminal',\n",
       "  'witness': 'ott770769',\n",
       "  'witness_name': 'Sterculia tragacantha'},\n",
       " 'nd53': {'status': 'terminal',\n",
       "  'witness': 'ott770769',\n",
       "  'witness_name': 'Sterculia tragacantha'},\n",
       " 'nd55': {'status': 'terminal',\n",
       "  'witness': 'ott638563',\n",
       "  'witness_name': 'Sterculia stipulata'},\n",
       " 'nd56': {'status': 'resolved_by',\n",
       "  'witness': 'ott861909',\n",
       "  'witness_name': 'Sterculia'},\n",
       " 'nd57': {'status': 'terminal',\n",
       "  'witness': 'ott638561',\n",
       "  'witness_name': 'Sterculia coccinea'},\n",
       " 'nd58': {'status': 'terminal',\n",
       "  'witness': 'ott638557',\n",
       "  'witness_name': 'Sterculia parviflora'},\n",
       " 'nd59': {'status': 'resolved_by',\n",
       "  'witness': 'ott996482',\n",
       "  'witness_name': 'Sterculioideae'},\n",
       " 'nd6': {'status': 'conflicts_with',\n",
       "  'witness': 'ott996482',\n",
       "  'witness_name': 'Sterculioideae'},\n",
       " 'nd60': {'status': 'resolved_by',\n",
       "  'witness': 'ott996482',\n",
       "  'witness_name': 'Sterculioideae'},\n",
       " 'nd61': {'status': 'conflicts_with',\n",
       "  'witness': 'ott283033',\n",
       "  'witness_name': 'Firmiana + Hildegardia (genus in kingdom Archaeplastida)'},\n",
       " 'nd62': {'status': 'terminal',\n",
       "  'witness': 'ott336228',\n",
       "  'witness_name': 'Hildegardia barteri'},\n",
       " 'nd63': {'status': 'terminal',\n",
       "  'witness': 'ott638539',\n",
       "  'witness_name': 'Firmiana malayana'},\n",
       " 'nd64': {'status': 'conflicts_with',\n",
       "  'witness': 'ott283033',\n",
       "  'witness_name': 'Firmiana + Hildegardia (genus in kingdom Archaeplastida)'},\n",
       " 'nd65': {'status': 'terminal',\n",
       "  'witness': 'ott283034',\n",
       "  'witness_name': 'Firmiana simplex'},\n",
       " 'nd66': {'status': 'terminal',\n",
       "  'witness': 'ott269830',\n",
       "  'witness_name': 'Hildegardia populifolia'},\n",
       " 'nd67': {'status': 'resolved_by',\n",
       "  'witness': 'ott996482',\n",
       "  'witness_name': 'Sterculioideae'},\n",
       " 'nd68': {'status': 'terminal',\n",
       "  'witness': 'ott269821',\n",
       "  'witness_name': 'Scaphium linearicarpum'},\n",
       " 'nd69': {'status': 'conflicts_with',\n",
       "  'witness': 'ott283044',\n",
       "  'witness_name': 'Scaphium (genus in kingdom Archaeplastida)'},\n",
       " 'nd7': {'status': 'conflicts_with',\n",
       "  'witness': 'ott996482',\n",
       "  'witness_name': 'Sterculioideae'},\n",
       " 'nd70': {'status': 'terminal',\n",
       "  'witness': 'ott269827',\n",
       "  'witness_name': 'Scaphium macropodum'},\n",
       " 'nd71': {'status': 'terminal',\n",
       "  'witness': 'ott269825',\n",
       "  'witness_name': 'Pterocymbium tinctorium'},\n",
       " 'nd72': {'status': 'terminal',\n",
       "  'witness': 'ott269825',\n",
       "  'witness_name': 'Pterocymbium tinctorium'},\n",
       " 'nd74': {'status': 'terminal',\n",
       "  'witness': 'ott1053097',\n",
       "  'witness_name': 'Cola acuminata'},\n",
       " 'nd75': {'status': 'terminal',\n",
       "  'witness': 'ott793342',\n",
       "  'witness_name': 'Pterygota alata'},\n",
       " 'nd8': {'status': 'resolved_by',\n",
       "  'witness': 'ott996482',\n",
       "  'witness_name': 'Sterculioideae'},\n",
       " 'nd9': {'status': 'terminal',\n",
       "  'witness': 'ott5551',\n",
       "  'witness_name': 'Brachychiton acerifolius'}}"
      ]
     },
     "execution_count": 27,
     "metadata": {},
     "output_type": "execute_result"
    }
   ],
   "source": [
    "conflict = resp_updated.response_dict\n",
    "conflict"
   ]
  },
  {
   "cell_type": "code",
   "execution_count": 16,
   "metadata": {},
   "outputs": [
    {
     "name": "stdout",
     "output_type": "stream",
     "text": [
      "Updated tree conflicts with 4 taxa in the OpenTree taxonomy:\n",
      "Bombacoideae\n",
      "Sterculioideae\n",
      "Scaphium (genus in kingdom Archaeplastida)\n",
      "Firmiana + Hildegardia (genus in kingdom Archaeplastida)\n"
     ]
    }
   ],
   "source": [
    "\n",
    "\n",
    "updated_conf_taxa = set()\n",
    "for node in conflict:\n",
    "    if conflict[node]['status'] == 'conflicts_with':\n",
    "        witness = conflict[node]['witness_name']\n",
    "        updated_conf_taxa.add(witness)\n",
    "\n",
    "sys.stdout.write(\"Updated tree conflicts with {} taxa in the OpenTree taxonomy:\\n\".format(len(updated_conf_taxa)))\n",
    "for tax in updated_conf_taxa:\n",
    "    sys.stdout.write(\"{}\\n\".format(tax))\n"
   ]
  },
  {
   "cell_type": "code",
   "execution_count": 24,
   "metadata": {},
   "outputs": [],
   "source": [
    "## Relabel tree with conflict information\n",
    "for node in tree_conf:\n",
    "    if node.taxon:\n",
    "        node_id = node.taxon.label.split('_')[1]\n",
    "        conf_node = conflict.get(node_id, False)\n",
    "        if conf_node:\n",
    "            new_label = \"{} {}\".format(conf_node['status'], conf_node['witness_name'])\n",
    "            node.taxon.label = new_label\n",
    "    else:\n",
    "        node_id = node.label.split('_')[1]\n",
    "        conf_node = conflict.get(node_id, False)\n",
    "        if conf_node:\n",
    "            new_label = \"{} {}\".format(conf_node['status'], conf_node['witness_name'])\n",
    "            node.label = new_label\n"
   ]
  },
  {
   "cell_type": "code",
   "execution_count": null,
   "metadata": {},
   "outputs": [],
   "source": []
  },
  {
   "cell_type": "code",
   "execution_count": 25,
   "metadata": {},
   "outputs": [
    {
     "data": {
      "text/plain": [
       "'              /------------------------------------------------------------------------------------------------------------------------------------------------------------- terminal Octolobus spectabilis       \\n              |                                                                                                                                                                                                   \\n              |                                                                                                                                              /-------------- terminal Brachychiton acerifolius    \\n              |                                                                                                                  /---------------------------+                                                    \\n              |                                                                                                                  |                           \\\\-------------- _nd11_ott5551                        \\n              |                                                                                                                  |                                                                                \\n              |                                          /-----------------------------------------------------------------------+                           /-------------- terminal Acropogon bullatus          \\n              |                                          |                                                                       |             /-------------+                                                    \\n              |                                          |                                                                       |             |             \\\\-------------- terminal Acropogon dzumacensis       \\n              |                                          |                                                                       \\\\-------------+                                                                  \\n              |                                          |                                                                                     |             /-------------- terminal Franciscodendron laurifolium\\n              |                                          |                                                                                     \\\\-------------+                                                    \\n              |                                          |                                                                                                   \\\\-------------- terminal Argyrodendron peralatum     \\n              |                                          |                                                                                                                                                        \\n              |                                          |                                                                                                   /-------------- terminal Heritiera elata             \\n              |                                          |                                                                       /---------------------------+                                                    \\n              |                            /-------------+                                                                       |                           \\\\-------------- terminal Heritiera littoralis        \\n              |                            |             |-----------------------------------------------------------------------+                                                                                \\n              |                            |             |                                                                       |             /---------------------------- terminal Heritiera aurea             \\n              |                            |             |                                                                       \\\\-------------+                                                                  \\n              |                            |             |                                                                                     |             /-------------- terminal Heritiera simplicifolia     \\n              |                            |             |                                                                                     \\\\-------------+                                                    \\n              |                            |             |                                                                                                   \\\\-------------- _nd27_ott638567                      \\n              |                            |             |                                                                                                                                                        \\n/-------------+                            |             |             /---------------------------------------------------------------------------------------------------- terminal Septotheca tessmannii       \\n|             |                            |             |             |                                                                                                                                          \\n|             |                            |             |             |              /------------------------------------------------------------------------------------- terminal Ochroma pyramidale          \\n|             |                            |             \\\\-------------+              |                                                                                                                           \\n|             |                            |                           |              |                                                        /---------------------------- terminal Spirotheca rosea            \\n|             |                            |                           |              |--------------------------------------------------------+                                                                  \\n|             |                            |                           |              |                                                        |             /-------------- terminal Bombax buonopozense         \\n|             |                            |                           \\\\--------------+                                                        \\\\-------------+                                                    \\n|             |                            |                                          |                                                                      \\\\-------------- terminal Pachira aquatica            \\n|             |                            |                                          |                                                                                                                           \\n|             |             /--------------+                                          |             /----------------------------------------------------------------------- terminal Fremontodendron californicum\\n|             |             |              |                                          |             |                                                                                                             \\n|             |             |              |                                          |             |                            /------------------------------------------ terminal Cephalohibiscus peekelii    \\n|             |             |              |                                          \\\\-------------+             /--------------+                                                                                \\n|             |             |              |                                                        |             |              |             /---------------------------- terminal Kokia kauaiensis            \\n|             |             |              |                                                        |             |              \\\\-------------+                                                                  \\n|             |             |              |                                                        \\\\-------------+                            |             /-------------- terminal Kokia drynarioides          \\n|             |             |              |                                                                      |                            \\\\-------------+                                                    \\n|             |             |              |                                                                      |                                          \\\\-------------- terminal Kokia cookei                \\n|             |             |              |                                                                      |                                                                                               \\n|             |             |              |                                                                      \\\\--------------------------------------------------------- terminal Macrostelia laurina         \\n|             |             |              |                                                                                                                                                                      \\n|             |             |              |                                                                                                   /---------------------------- terminal Sterculia balanghas         \\n|             |             |              |                                                                                     /-------------+                                                                  \\n|             |             |              |                                                                                     |             |             /-------------- terminal Sterculia tragacantha       \\n|             \\\\-------------+              |                                                                      /--------------+             \\\\-------------+                                                    \\n+                           |              |                                                                      |              |                           \\\\-------------- _nd54_ott770769                      \\n|                           |              |                                                                      |              |                                                                                \\n|                           |              \\\\----------------------------------------------------------------------+              \\\\------------------------------------------ terminal Sterculia stipulata         \\n|                           |                                                                                     |                                                                                               \\n|                           |                                                                                     |                                          /-------------- terminal Sterculia coccinea          \\n|                           |                                                                                     \\\\------------------------------------------+                                                    \\n|                           |                                                                                                                                \\\\-------------- terminal Sterculia parviflora        \\n|                           |                                                                                                                                                                                     \\n|                           |                                                                                                                                /-------------- terminal Hildegardia barteri         \\n|                           |                                                                                                                  /-------------+                                                    \\n|                           |                                                                                                                  |             \\\\-------------- terminal Firmiana malayana           \\n|                           |                                                                                     /----------------------------+                                                                  \\n|                           |                                                                                     |                            |             /-------------- terminal Firmiana simplex            \\n|                           |                                                                                     |                            \\\\-------------+                                                    \\n|                           \\\\-------------------------------------------------------------------------------------+                                          \\\\-------------- terminal Hildegardia populifolia     \\n|                                                                                                                 |                                                                                               \\n|                                                                                                                 |              /------------------------------------------ terminal Scaphium linearicarpum      \\n|                                                                                                                 \\\\--------------+                                                                                \\n|                                                                                                                                |             /---------------------------- terminal Scaphium macropodum         \\n|                                                                                                                                \\\\-------------+                                                                  \\n|                                                                                                                                              |             /-------------- terminal Pterocymbium tinctorium     \\n|                                                                                                                                              \\\\-------------+                                                    \\n|                                                                                                                                                            \\\\-------------- _nd73_ott269827                      \\n|                                                                                                                                                                                                                 \\n|--------------------------------------------------------------------------------------------------------------------------------------------------------------------------- terminal Cola acuminata              \\n|                                                                                                                                                                                                                 \\n\\\\--------------------------------------------------------------------------------------------------------------------------------------------------------------------------- terminal Pterygota alata             \\n                                                                                                                                                                                                                  \\n                                                                                                                                                                                                                  '"
      ]
     },
     "execution_count": 25,
     "metadata": {},
     "output_type": "execute_result"
    }
   ],
   "source": [
    "tree_conf.as_ascii_plot()"
   ]
  },
  {
   "cell_type": "code",
   "execution_count": null,
   "metadata": {},
   "outputs": [],
   "source": []
  }
 ],
 "metadata": {
  "kernelspec": {
   "display_name": "opentree",
   "language": "python",
   "name": "opentree"
  },
  "language_info": {
   "codemirror_mode": {
    "name": "ipython",
    "version": 3
   },
   "file_extension": ".py",
   "mimetype": "text/x-python",
   "name": "python",
   "nbconvert_exporter": "python",
   "pygments_lexer": "ipython3",
   "version": "3.7.5"
  }
 },
 "nbformat": 4,
 "nbformat_minor": 4
}
