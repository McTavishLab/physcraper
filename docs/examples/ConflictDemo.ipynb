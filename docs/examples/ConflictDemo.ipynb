{
 "cells": [
  {
   "cell_type": "code",
   "execution_count": null,
   "metadata": {},
   "outputs": [],
   "source": [
    "from physcraper import opentree_helpers\n",
    "from opentree import OT\n",
    "import dendropy\n",
    "import json\n",
    "import sys\n"
   ]
  },
  {
   "cell_type": "code",
   "execution_count": null,
   "metadata": {},
   "outputs": [],
   "source": [
    "# Input alignemnt from treebase stored at https://github.com/McTavishLab/physcraper_example/blob/master/treebase_alns/pg_55tree5864_ndhf.aln\n",
    "# Data files created by running:\n",
    "# physcraper_run.py -s pg_55 -t tree5864 -a treebase_alns/pg_55tree5864_ndhf.aln -as \"nexus\" -db ~/ncbi/localblastdb/ -o pg_55\n"
   ]
  },
  {
   "cell_type": "code",
   "execution_count": null,
   "metadata": {},
   "outputs": [],
   "source": [
    "updated_tre_path = \"pg_55/outputs_pg_55tree5864_ndhf/physcraper_pg_55tree5864_ndhf.tre\"\n",
    "otu_json_path = \"pg_55/run_pg_55tree5864_ndhf/otu_info_pg_55tree5864_ndhf.json\""
   ]
  },
  {
   "cell_type": "code",
   "execution_count": null,
   "metadata": {},
   "outputs": [],
   "source": [
    "updated_tre = dendropy.Tree.get(path=updated_tre_path, schema = \"newick\")\n",
    "otu_dict = json.load(open(otu_json_path, \"r\"))"
   ]
  },
  {
   "cell_type": "code",
   "execution_count": null,
   "metadata": {},
   "outputs": [],
   "source": [
    "#Choose outgroups and root\n",
    "outgroup = ['otu376420','otu376439','otu376452']\n",
    "mrca = updated_tre.mrca(taxon_labels=outgroup)\n",
    "updated_tre.reroot_at_node(mrca, update_bipartitions=True)\n"
   ]
  },
  {
   "cell_type": "code",
   "execution_count": null,
   "metadata": {},
   "outputs": [],
   "source": [
    "tree_conf = opentree_helpers.conflict_tree(updated_tre, otu_dict)\n",
    "print(tree_conf)"
   ]
  },
  {
   "cell_type": "code",
   "execution_count": null,
   "metadata": {},
   "outputs": [],
   "source": [
    "resp_updated = OT.conflict_str(tree_conf.as_string(schema=\"newick\"), 'ott')"
   ]
  },
  {
   "cell_type": "code",
   "execution_count": null,
   "metadata": {},
   "outputs": [],
   "source": [
    "conflict = resp_updated.response_dict\n",
    "conflict"
   ]
  },
  {
   "cell_type": "code",
   "execution_count": null,
   "metadata": {},
   "outputs": [],
   "source": [
    "\n",
    "\n",
    "updated_conf_taxa = set()\n",
    "for node in conflict:\n",
    "    if conflict[node]['status'] == 'conflicts_with':\n",
    "        witness = conflict[node]['witness_name']\n",
    "        updated_conf_taxa.add(witness)\n",
    "\n",
    "sys.stdout.write(\"Updated tree conflicts with {} taxa in the OpenTree taxonomy:\\n\".format(len(updated_conf_taxa)))\n",
    "for tax in updated_conf_taxa:\n",
    "    sys.stdout.write(\"{}\\n\".format(tax))\n"
   ]
  },
  {
   "cell_type": "code",
   "execution_count": null,
   "metadata": {},
   "outputs": [],
   "source": [
    "## Relabel tree with conflict information\n",
    "for node in tree_conf:\n",
    "    if node.taxon:\n",
    "        node_id = node.taxon.label.split('_')[1]\n",
    "        conf_node = conflict.get(node_id, False)\n",
    "        if conf_node:\n",
    "            new_label = \"{} {}\".format(conf_node['status'], conf_node['witness_name'])\n",
    "            node.taxon.label = new_label\n",
    "    else:\n",
    "        node_id = node.label.split('_')[1]\n",
    "        conf_node = conflict.get(node_id, False)\n",
    "        if conf_node:\n",
    "            new_label = \"{} {}\".format(conf_node['status'], conf_node['witness_name'])\n",
    "            node.label = new_label\n"
   ]
  },
  {
   "cell_type": "code",
   "execution_count": null,
   "metadata": {},
   "outputs": [],
   "source": [
    "tree_conf.as_string(schema=\"newick\")"
   ]
  },
  {
   "cell_type": "code",
   "execution_count": null,
   "metadata": {},
   "outputs": [],
   "source": [
    "tree_conf.as_ascii_plot()"
   ]
  },
  {
   "cell_type": "code",
   "execution_count": null,
   "metadata": {},
   "outputs": [],
   "source": []
  },
  {
   "cell_type": "code",
   "execution_count": null,
   "metadata": {},
   "outputs": [],
   "source": []
  }
 ],
 "metadata": {
  "kernelspec": {
   "display_name": "opentree",
   "language": "python",
   "name": "opentree"
  },
  "language_info": {
   "codemirror_mode": {
    "name": "ipython",
    "version": 3
   },
   "file_extension": ".py",
   "mimetype": "text/x-python",
   "name": "python",
   "nbconvert_exporter": "python",
   "pygments_lexer": "ipython3",
   "version": "3.7.5"
  }
 },
 "nbformat": 4,
 "nbformat_minor": 4
}
