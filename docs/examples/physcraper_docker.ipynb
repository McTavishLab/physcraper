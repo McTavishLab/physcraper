{
 "cells": [
  {
   "cell_type": "markdown",
   "metadata": {},
   "source": [
    "# Installing and running `Physcraper` with docker"
   ]
  },
  {
   "cell_type": "code",
   "execution_count": 2,
   "metadata": {},
   "outputs": [
    {
     "name": "stdout",
     "output_type": "stream",
     "text": [
      "Using default tag: latest\n",
      "latest: Pulling from mctavishlab/physcraper\n",
      "Digest: sha256:24bd4f1d49a5ffca850a5b580f7bd4c8f21647334546f2b6683d68e78c0ba71b\n",
      "Status: Image is up to date for mctavishlab/physcraper:latest\n",
      "docker.io/mctavishlab/physcraper:latest\n"
     ]
    }
   ],
   "source": [
    "!docker pull mctavishlab/physcraper"
   ]
  },
  {
   "cell_type": "code",
   "execution_count": 4,
   "metadata": {},
   "outputs": [
    {
     "name": "stdout",
     "output_type": "stream",
     "text": [
      "docker: Error response from daemon: Conflict. The container name \"/physcraperdocker\" is already in use by container \"58578efff28e90e0e75bb4ebc98a86bfe984ab9c721203d3d2bae64079e07e15\". You have to remove (or rename) that container to be able to reuse that name.\r\n",
      "See 'docker run --help'.\r\n"
     ]
    }
   ],
   "source": [
    "!docker run --name physcraperdocker -i -t mctavishlab/physcraper bash\n",
    "# -i makes the container interactive.\n",
    "# -t specifies the image to use as a template.\n",
    "# --name specifies the container name."
   ]
  },
  {
   "cell_type": "code",
   "execution_count": 5,
   "metadata": {},
   "outputs": [
    {
     "name": "stdout",
     "output_type": "stream",
     "text": [
      "physcraperdocker\n",
      "\u001b]0;root@58578efff28e: /project/physcraper\u0007root@58578efff28e:/project/physcraper# ^C\n",
      "\n",
      "\u001b]0;root@58578efff28e: /project/physcraper\u0007root@58578efff28e:/project/physcraper# "
     ]
    }
   ],
   "source": [
    "!docker container restart physcraperdocker\n",
    "!docker exec -it physcraperdocker bash"
   ]
  },
  {
   "cell_type": "code",
   "execution_count": 6,
   "metadata": {},
   "outputs": [
    {
     "name": "stdout",
     "output_type": "stream",
     "text": [
      "/usr/local/bin/muscle\r\n"
     ]
    }
   ],
   "source": [
    "!which muscle"
   ]
  },
  {
   "cell_type": "code",
   "execution_count": 9,
   "metadata": {},
   "outputs": [
    {
     "name": "stdout",
     "output_type": "stream",
     "text": [
      "raxmlHPC not found\r\n"
     ]
    }
   ],
   "source": [
    "!which raxmlHPC"
   ]
  },
  {
   "cell_type": "code",
   "execution_count": null,
   "metadata": {},
   "outputs": [
    {
     "name": "stdout",
     "output_type": "stream",
     "text": [
      "Python 3.7.3 (default, Mar 27 2019, 16:54:48) \n",
      "[Clang 4.0.1 (tags/RELEASE_401/final)] :: Anaconda, Inc. on darwin\n",
      "Type \"help\", \"copyright\", \"credits\" or \"license\" for more information.\n",
      ">>> "
     ]
    }
   ],
   "source": [
    "!python"
   ]
  },
  {
   "cell_type": "code",
   "execution_count": null,
   "metadata": {},
   "outputs": [],
   "source": []
  }
 ],
 "metadata": {
  "kernelspec": {
   "display_name": "opentree",
   "language": "python",
   "name": "opentree"
  },
  "language_info": {
   "codemirror_mode": {
    "name": "ipython",
    "version": 3
   },
   "file_extension": ".py",
   "mimetype": "text/x-python",
   "name": "python",
   "nbconvert_exporter": "python",
   "pygments_lexer": "ipython3",
   "version": "3.7.3"
  }
 },
 "nbformat": 4,
 "nbformat_minor": 2
}
