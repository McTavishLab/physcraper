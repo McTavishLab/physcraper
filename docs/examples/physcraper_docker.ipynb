{
 "cells": [
  {
   "cell_type": "markdown",
   "metadata": {},
   "source": [
    "# Installing and running `Physcraper` with docker"
   ]
  },
  {
   "cell_type": "markdown",
   "metadata": {},
   "source": [
    "#### 1. Get the Physcraper Docker image from Docker Hub:"
   ]
  },
  {
   "cell_type": "code",
   "execution_count": 1,
   "metadata": {},
   "outputs": [
    {
     "name": "stdout",
     "output_type": "stream",
     "text": [
      "Using default tag: latest\n",
      "latest: Pulling from mctavishlab/physcraper\n",
      "Digest: sha256:24bd4f1d49a5ffca850a5b580f7bd4c8f21647334546f2b6683d68e78c0ba71b\n",
      "Status: Image is up to date for mctavishlab/physcraper:latest\n",
      "docker.io/mctavishlab/physcraper:latest\n"
     ]
    }
   ],
   "source": [
    "docker pull mctavishlab/physcraper"
   ]
  },
  {
   "cell_type": "markdown",
   "metadata": {},
   "source": [
    "#### 2.a) Start a container:"
   ]
  },
  {
   "cell_type": "code",
   "execution_count": 2,
   "metadata": {},
   "outputs": [
    {
     "name": "stdout",
     "output_type": "stream",
     "text": [
      "docker: Error response from daemon: Conflict. The container name \"/physcraperdocker\" is already in use by container \"58578efff28e90e0e75bb4ebc98a86bfe984ab9c721203d3d2bae64079e07e15\". You have to remove (or rename) that container to be able to reuse that name.\r\n",
      "See 'docker run --help'.\r\n"
     ]
    }
   ],
   "source": [
    "docker run --name physcraperdocker -i -t mctavishlab/physcraper bash\n",
    "# -i makes the container interactive.\n",
    "# -t specifies the image to use as a template.\n",
    "# --name specifies the container name."
   ]
  },
  {
   "cell_type": "markdown",
   "metadata": {},
   "source": [
    "_This error means that the container is already running somewhere else on my computer._\n",
    "\n",
    "_We need to exit it and restart it:_"
   ]
  },
  {
   "cell_type": "markdown",
   "metadata": {},
   "source": [
    "#### 2.b) Exit a container:"
   ]
  },
  {
   "cell_type": "code",
   "execution_count": 3,
   "metadata": {},
   "outputs": [],
   "source": [
    "exit"
   ]
  },
  {
   "cell_type": "markdown",
   "metadata": {},
   "source": [
    "#### 2.c) Restart a container:"
   ]
  },
  {
   "cell_type": "code",
   "execution_count": 4,
   "metadata": {},
   "outputs": [
    {
     "name": "stdout",
     "output_type": "stream",
     "text": [
      "physcraperdocker\n",
      "\n",
      "root@58578efff28e:/project/physcraper# "
     ]
    }
   ],
   "source": [
    "docker container restart physcraperdocker\n",
    "docker exec -it physcraperdocker bash"
   ]
  },
  {
   "cell_type": "markdown",
   "metadata": {},
   "source": [
    "#### 3. Creating a \"linked\" container\n",
    "\n",
    "\n",
    "We have to create a link between the virtual machine and our machine, so we can pass files between the two. To achieve this, we will create a \"linked\" physcraper docker container using the following command:\n",
    "\n",
    "```\n",
    "docker run --name physcraperdocker_link -i -t -v [/local/path/to/linked_dir]:/project/linked_dir  mctavishlab/physcraper  bash\n",
    "```\n",
    "\n",
    "Remember to remove the square brackets from the example path `[local/path/to/linked_dir]` before running the command. \n",
    "\n",
    "In my case, the `linked_dir` folder is in home, in the `collab-paper` directory, so I ran:"
   ]
  },
  {
   "cell_type": "code",
   "execution_count": 5,
   "metadata": {},
   "outputs": [
     {
      "name": "stdout",
      "output_type": "stream",
      "text": [
       "physcraperdocker_link\n",
       "\n",
       "root@6a1b02905a5d:/project/physcraper# "
      ]
     }
   ],
   "source": [
    "docker run --name physcraperdocker_link -i -t -v ~/collab-paper/linked_dir:/project/linked_dir mctavishlab/physcraper bash"
   ]
  },
  {
   "cell_type": "markdown",
   "metadata": {},
   "source": [
    "#### 4. Check that dependencies and `Physcraper` are available:"
   ]
  },
  {
   "cell_type": "code",
   "execution_count": 6,
   "metadata": {},
   "outputs": [
    {
     "name": "stdout",
     "output_type": "stream",
     "text": [
      "/usr/bin/muscle\r\n"
     ]
    }
   ],
   "source": [
    "which muscle"
   ]
  },
  {
   "cell_type": "code",
   "execution_count": 7,
   "metadata": {},
   "outputs": [
    {
     "name": "stdout",
     "output_type": "stream",
     "text": [
      "/usr/bin/raxmlHPC\r\n"
     ]
    }
   ],
   "source": [
    "which raxmlHPC"
   ]
  },
  {
   "cell_type": "code",
   "execution_count": 8,
   "metadata": {},
   "outputs": [
    {
     "name": "stdout",
     "output_type": "stream",
     "text": [
      "Python 3.8.10\r\n"
     ]
    }
   ],
   "source": [
    "python --version"
   ]
  },
  {
   "cell_type": "code",
   "execution_count": 9,
   "metadata": {},
   "outputs": [
    {
     "name": "stdout",
     "output_type": "stream",
     "text": [
      "usage: physcraper_run.py [-h] [-s STUDY_ID] [-t TREE_ID] [-a ALIGNMENT] [-as ALN_SCHEMA]\r\n",
      "                         [-o OUTPUT] [-c CONFIGFILE] [-tb] [-re RELOAD_FILES]\r\n",
      "                         [-tf TREE_FILE] [-tfs TREE_SCHEMA] [-ti TAXON_INFO] [-tag TAG]\r\n",
      "                         [-st SEARCH_TAXON] [-spn SPECIES_NUMBER]\r\n",
      "                         [-bl BLOCK_LIST [BLOCK_LIST ...]] [-tp TRIM_PERC]\r\n",
      "                         [-rlmax RELATIVE_LENGTH_MAX] [-rlmin RELATIVE_LENGTH_MIN] [-r]\r\n",
      "                         [-db BLAST_DB] [-u BLAST_URL] [-e EMAIL] [-ak API_KEY]\r\n",
      "                         [-ev EVAL] [-hl HITLIST_LEN] [-nt NUM_THREADS] [-de DELAY]\r\n",
      "                         [-no_est] [-bs BOOTSTRAP_REPS] [-tx TAXONOMY] [-v]\r\n",
      "optional arguments:\r\n",
      "-h, --help            show this help message and exit\r\n",
      "-s STUDY_ID, --study_id STUDY_ID\r\n",
      "                      OpenTree study id.\r\n",
      "-t TREE_ID, --tree_id TREE_ID\r\n",
      "                      OpenTree tree id.\r\n",
      "-a ALIGNMENT, --alignment ALIGNMENT\r\n",
      "                      Path to alignment.\r\n",
      "-as ALN_SCHEMA, --aln_schema ALN_SCHEMA\r\n",
      "                      Alignment schema (nexus or fasta)\r\n",
      "-o OUTPUT, --output OUTPUT\r\n",
      "                      Path to output directory.\r\n",
      "-c CONFIGFILE, --configfile CONFIGFILE\r\n",
      "                      Path to config file.\r\n",
      "-tb, --treebase       Download alignment from treebase.\r\n",
      "-re RELOAD_FILES, --reload_files RELOAD_FILES\r\n",
      "                      Reload files and configuration from dir.\r\n",
      "-tf TREE_FILE, --tree_file TREE_FILE\r\n",
      "                      A path to a tree file.\r\n",
      "-tfs TREE_SCHEMA, --tree_schema TREE_SCHEMA\r\n",
      "                      Tree file format schema.\r\n",
      "-ti TAXON_INFO, --taxon_info TAXON_INFO\r\n",
      "                      Taxon info file from OpenTree TNRS.\r\n",
      "-tag TAG, --tag TAG   Gene name or other name specifier.\r\n",
      "-st SEARCH_TAXON, --search_taxon SEARCH_TAXON\r\n",
      "                      Taxonomic id to constrain a BLAST search. Format is ott:123 or\r\n",
      "                      ncbi:123. Default will use ingroup of tree on OpenTree, or MRCA\r\n",
      "                      of input tips.\r\n",
      "-spn SPECIES_NUMBER, --species_number SPECIES_NUMBER\r\n",
      "                      MAXimum number of sequences to include per species.\r\n",
      "-bl BLOCK_LIST [BLOCK_LIST ...], --block_list BLOCK_LIST [BLOCK_LIST ...]\r\n",
      "                      NCBI accession numbers to exclude.\r\n",
      "-tp TRIM_PERC, --trim_perc TRIM_PERC\r\n",
      "                      MINimum percentage of sequences end of alignments.\r\n",
      "-rlmax RELATIVE_LENGTH_MAX, --relative_length_max RELATIVE_LENGTH_MAX\r\n",
      "                      MAXimum relative length of added sequences, compared to input\r\n",
      "                      sequence length.\r\n",
      "-rlmin RELATIVE_LENGTH_MIN, --relative_length_min RELATIVE_LENGTH_MIN\r\n",
      "                      MINimum relative length of added sequences, compared to input\r\n",
      "                      sequence length.\r\n",
      "-r, --repeat          Repeat BLAST search until no new sequences are found.\r\n",
      "-db BLAST_DB, --blast_db BLAST_DB\r\n",
      "                      Local download of BLAST database.\r\n",
      "-u BLAST_URL, --blast_url BLAST_URL\r\n",
      "                      A URL for your own mirrored BLAST database.\r\n",
      "-e EMAIL, --email EMAIL\r\n",
      "                      email address for NCBI BLAST searches.\r\n",
      "-ak API_KEY, --api_key API_KEY\r\n",
      "                      NCBI API key.\r\n",
      "-ev EVAL, --eval EVAL\r\n",
      "                      BLAST e-value cutoff.\r\n",
      "-hl HITLIST_LEN, --hitlist_len HITLIST_LEN\r\n",
      "                      Number of blast searches to save per taxon.\r\n",
      "-nt NUM_THREADS, --num_threads NUM_THREADS\r\n",
      "                      Number of threads to use in processing.\r\n",
      "-de DELAY, --delay DELAY\r\n",
      "                      how long to wait before blasting the same sequence again\r\n",
      "-no_est, --no_estimate\r\n",
      "                      Just checks the input files. Does not estimate tree, nor runs\r\n",
      "                      BLAST search.\r\n",
      "-bs BOOTSTRAP_REPS, --bootstrap_reps BOOTSTRAP_REPS\r\n",
      "                      Number of bootstrap repetitions.\r\n",
      "-tx TAXONOMY, --taxonomy TAXONOMY\r\n",
      "                      Path to taxonomy.\r\n",
      "-v, --verbose         Verbose mode.\r\n"
     ]
    }
   ],
   "source": [
    "physcraper_run.py --help"
   ]
  },
  {
   "cell_type": "markdown",
   "metadata": {},
   "source": [
    "#### 4. Test that `Physcraper` runs by starting an example:\n",
    "\n",
    "First, copy the preloaded BLAST sequences:"
   ]
  },
  {
   "cell_type": "code",
   "execution_count": 10,
   "metadata": {},
   "outputs": [],
   "source": [
    "cp -r docs/examples/pg_55_web pg_55_test"
   ]
  },
  {
   "cell_type": "markdown",
   "metadata": {},
   "source": [
    "Next, start a physcraper run with 2 to 10 bootstraps. Measure running time by adding the `time` command at the beginning.\n",
    "\n",
    "As you can see at the end, a Physcraper run with 10 bootstraps took 395 minutes and 10.226 seconds, that is a bit more than 6hrs 35minutes!"
   ]
  },
  {
   "cell_type": "code",
   "execution_count": 11,
   "metadata": {},
   "outputs": [
    {
     "name": "stdout",
     "output_type": "stream",
     "text": [
      "No config file, using defaults\r\n",
      "Configuration Settings\r\n",
      "[blast]\r\n",
      "Entrez.email = None\r\n",
      "e_value_thresh = 1e-05\r\n",
      "hitlist_size = 10\r\n",
      "location = remote\r\n",
      "localblastdb = None\r\n",
      "num_threads = 4\r\n",
      "delay = 90\r\n",
      "[physcraper]\r\n",
      "spp_threshold = 5\r\n",
      "min_length = 0.8\r\n",
      "max_length = 1.2\r\n",
      "\n",
      "Using alignment file found at pg_55_test/pg_55tree5864.aln.\r\n",
      "get_mrca_ott\r\n",
      "restricting blast search to taxon ncbi:3629 (ott:279960; Malvaceae)\r\n",
      "Tree file written to /project/physcraper/pg_55_test/inputs_pg_55tree5864/taxonname.tre\r\n",
      "31 taxa in alignment and tree\r\n",
      "Blasting 'otu376438'\r\n",
      "Blasting 'otu376443'\r\n",
      "Blasting 'otu376431'\r\n",
      "Blasting 'otu376442'\r\n",
      "Blasting 'otu376429'\r\n",
      "Blasting 'otu376441'\r\n",
      "Blasting 'otu376453'\r\n",
      "Blasting 'otu376426'\r\n",
      "Blasting 'otu376434'\r\n",
      "Blasting 'otu376451'\r\n",
      "Blasting 'otu376433'\r\n",
      "Blasting 'otu376425'\r\n",
      "Blasting 'otu376448'\r\n",
      "Blasting 'otu376449'\r\n",
      "Blasting 'otu376432'\r\n",
      "Blasting 'otu376447'\r\n",
      "Blasting 'otu376437'\r\n",
      "Blasting 'otu376445'\r\n",
      "Blasting 'otu376454'\r\n",
      "Blasting 'otu376446'\r\n",
      "Blasting 'otu376435'\r\n",
      "Blasting 'otu376427'\r\n",
      "Blasting 'otu376444'\r\n",
      "Blasting 'otu376450'\r\n",
      "Blasting 'otu376436'\r\n",
      "Blasting 'otu376440'\r\n",
      "Blasting 'otu376428'\r\n",
      "Blasting 'otu376439'\r\n",
      "tip otu376439 not in ingroup. Will not blast,\r\n",
      "Blasting 'otu376452'\r\n",
      "tip otu376452 not in ingroup. Will not blast,\r\n",
      "Blasting 'otu376420'\r\n",
      "tip otu376420 not in ingroup. Will not blast,\r\n",
      "Blasting 'otu376430'\r\n",
      "tip otu376430 not in ingroup. Will not blast,\r\n",
      "reading blast data\r\n",
      "28 taxa in orginal alignment; 30 taxa in updated alignemnt, keeping max 5 seq per taxon\r\n",
      "**** Found 3 new sequences after removing identical seqs****\r\n",
      "/usr/bin/raxmlHPC\r\n",
      "\n",
      "WARNING: The number of threads is currently set to 1\r\n",
      "You can specify the number of threads to run via -T numberOfThreads\r\n",
      "NumberOfThreads must be set to an integer value greater than 1\r\n",
      "\n",
      "RAxML, will now set the number of threads automatically to 2.\r\n",
      "\n",
      "\n",
      "RAxML can't, parse the alignment file as phylip file\r\n",
      "it will now try to parse it as FASTA file\r\n",
      "\n",
      "IMPORTANT WARNING: Sequences otu376428 and otuPS29 are exactly identical\r\n",
      "\n",
      "IMPORTANT WARNING\r\n",
      "Found 1 sequence that is exactly identical to other sequences in the alignment.\r\n",
      "Normally they should be excluded from the analysis.\r\n",
      "\n",
      "An alignment file with sequence duplicates removed has already\r\n",
      "been printed to file /project/physcraper/pg_55_test/run_pg_55tree5864/physcraper_pg_55tree5864.fas.reduced\r\n",
      "\n",
      "Using BFGS method to optimize GTR rate parameters, to disable this specify \"--no-bfgs\"\r\n",
      "\n",
      "This is the RAxML Master Pthread\r\n",
      "\n",
      "This is RAxML Worker Pthread Number: 1\r\n",
      "\n",
      "This is RAxML version 8.2.12 released by Alexandros Stamatakis on May 2018.\r\n",
      "\n",
      "With greatly appreciated code contributions by:\r\n",
      "Andre Aberer      (HITS)\r\n",
      "Simon Berger      (HITS)\r\n",
      "Alexey Kozlov     (HITS)\r\n",
      "Kassian Kobert    (HITS)\r\n",
      "David Dao         (KIT and HITS)\r\n",
      "Sarah Lutteropp   (KIT and HITS)\r\n",
      "Nick Pattengale   (Sandia)\r\n",
      "Wayne Pfeiffer    (SDSC)\r\n",
      "Akifumi S. Tanabe (NRIFS)\r\n",
      "Charlie Taylor    (UF)\r\n",
      "\n",
      "Alignment has 311 distinct alignment patterns\r\n",
      "\n",
      "Proportion of gaps and completely undetermined characters in this alignment: 2.54%\r\n",
      "\n",
      "RAxML rapid hill-climbing mode\r\n",
      "\n",
      "Using 1 distinct models/data partitions with joint branch length optimization\r\n",
      "\n",
      "Executing 1 inferences on the original alignment using 1 user-specified trees\r\n",
      "\n",
      "All free model parameters will be estimated by RAxML\r\n",
      "ML estimate of 25 per site rate categories\r\n",
      "\n",
      "Likelihood of final tree will be evaluated and optimized under GAMMA\r\n",
      "\n",
      "GAMMA Model parameters will be estimated up to an accuracy of 0.1000000000 Log Likelihood units\r\n",
      "\n",
      "Partition: 0\r\n",
      "Alignment Patterns: 311\r\n",
      "Name: No Name Provided\r\n",
      "DataType: DNA\r\n",
      "Substitution Matrix: GTR\r\n",
      "\n",
      "RAxML was called as follows:\r\n",
      "\n",
      "/usr/bin/raxmlHPC-PTHREADS-AVX -T 1 -m GTRCAT -s /project/physcraper/pg_55_test/run_pg_55tree5864/physcraper_pg_55tree5864.fas -t /project/physcraper/pg_55_test/run_pg_55tree5864/random_resolve.tre -p 1 -n 2021-10-26\r\n",
      "\n",
      "Partition: 0 with name: No Name Provided\r\n",
      "Base frequencies: 0.285 0.156 0.174 0.385\r\n",
      "\n",
      "You provided an incomplete starting tree 31 alignmnet has 34 taxa\r\n",
      "Inference[0]: Time 2.525786 CAT-based likelihood -4613.952456, best rearrangement setting 5\r\n",
      "\n",
      "Conducting final model optimizations on all 1 trees under GAMMA-based models ....\r\n",
      "\n",
      "Inference[0] final GAMMA-based Likelihood: -5290.691755 tree written to file /project/physcraper/pg_55_test/run_pg_55tree5864/RAxML_result.2021-10-26\r\n",
      "\n",
      "Starting final GAMMA-based thorough Optimization on tree 0 likelihood -5290.691755 ....\r\n",
      "\n",
      "Final GAMMA-based Score of best tree -5290.691755\r\n",
      "\n",
      "Program execution info written to /project/physcraper/pg_55_test/run_pg_55tree5864/RAxML_info.2021-10-26\r\n",
      "Best-scoring ML tree written to: /project/physcraper/pg_55_test/run_pg_55tree5864/RAxML_bestTree.2021-10-26\r\n",
      "\n",
      "Overall execution time: 4.525654 secs or 0.001257 hours or 0.000052 days\r\n",
      "\n",
      "/usr/bin/raxmlHPC\r\n",
      "Use raxml with AVX support with overriden number of threads\r\n",
      "\n",
      "RAxML can't, parse the alignment file as phylip file\r\n",
      "it will now try to parse it as FASTA file\r\n",
      "\n",
      "IMPORTANT WARNING: Sequences otu376428 and otuPS29 are exactly identical\r\n",
      "\n",
      "IMPORTANT WARNING\r\n",
      "Found 1 sequence that is exactly identical to other sequences in the alignment.\r\n",
      "Normally they should be excluded from the analysis.\r\n",
      "\n",
      "An alignment file with sequence duplicates removed has already\r\n",
      "been printed to file /project/physcraper/pg_55_test/run_pg_55tree5864/physcraper_pg_55tree5864.fas.reduced\r\n",
      "\n",
      "Using BFGS method to optimize GTR rate parameters, to disable this specify \"--no-bfgs\"\r\n",
      "\n",
      "This is the RAxML Master Pthread\r\n",
      "\n",
      "This is RAxML Worker Pthread Number: 2\r\n",
      "\n",
      "This is RAxML Worker Pthread Number: 3\r\n",
      "\n",
      "This is RAxML Worker Pthread Number: 1\r\n",
      "\n",
      "This is RAxML version 8.2.12 released by Alexandros Stamatakis on May 2018.\r\n",
      "\n",
      "With greatly appreciated code contributions by:\r\n",
      "Andre Aberer      (HITS)\r\n",
      "Simon Berger      (HITS)\r\n",
      "Alexey Kozlov     (HITS)\r\n",
      "Kassian Kobert    (HITS)\r\n",
      "David Dao         (KIT and HITS)\r\n",
      "Sarah Lutteropp   (KIT and HITS)\r\n",
      "Nick Pattengale   (Sandia)\r\n",
      "Wayne Pfeiffer    (SDSC)\r\n",
      "Akifumi S. Tanabe (NRIFS)\r\n",
      "Charlie Taylor    (UF)\r\n",
      "\n",
      "Alignment has 311 distinct alignment patterns\r\n",
      "\n",
      "Proportion of gaps and completely undetermined characters in this alignment: 2.54%\r\n",
      "\n",
      "RAxML rapid hill-climbing mode\r\n",
      "\n",
      "Using 1 distinct models/data partitions with joint branch length optimization\r\n",
      "\n",
      "Executing 10 non-parametric bootstrap inferences\r\n",
      "\n",
      "All free model parameters will be estimated by RAxML\r\n",
      "ML estimate of 25 per site rate categories\r\n",
      "\n",
      "Likelihood of final tree will be evaluated and optimized under GAMMA\r\n",
      "\n",
      "GAMMA Model parameters will be estimated up to an accuracy of 0.1000000000 Log Likelihood units\r\n",
      "\n",
      "Partition: 0\r\n",
      "Alignment Patterns: 311\r\n",
      "Name: No Name Provided\r\n",
      "DataType: DNA\r\n",
      "Substitution Matrix: GTR\r\n",
      "\n",
      "\n",
      "\n",
      "\n",
      "RAxML was called as follows:\r\n",
      "\n",
      "/usr/bin/raxmlHPC-PTHREADS-AVX -T 4 -m GTRCAT -s /project/physcraper/pg_55_test/run_pg_55tree5864/physcraper_pg_55tree5864.fas -p 1 -b 1 -# 10 -n BOOT2021-10-26\r\n",
      "\n",
      "\n",
      "Bootstrap[0]: Time 2193.518321 seconds, bootstrap likelihood -4331.471420, best rearrangement setting 5\r\n",
      "Bootstrap[1]: Time 2087.378199 seconds, bootstrap likelihood -4602.342761, best rearrangement setting 15\r\n",
      "Bootstrap[2]: Time 2006.573746 seconds, bootstrap likelihood -4322.066040, best rearrangement setting 10\r\n",
      "Bootstrap[3]: Time 2118.967515 seconds, bootstrap likelihood -4817.689898, best rearrangement setting 15\r\n",
      "Bootstrap[4]: Time 2076.661698 seconds, bootstrap likelihood -4748.600290, best rearrangement setting 10\r\n",
      "Bootstrap[5]: Time 1954.901317 seconds, bootstrap likelihood -4593.193276, best rearrangement setting 10\r\n",
      "Bootstrap[6]: Time 2813.394747 seconds, bootstrap likelihood -4502.740579, best rearrangement setting 5\r\n",
      "Bootstrap[7]: Time 2000.894917 seconds, bootstrap likelihood -4608.646400, best rearrangement setting 10\r\n",
      "Bootstrap[8]: Time 4510.374981 seconds, bootstrap likelihood -4474.218955, best rearrangement setting 15\r\n",
      "Bootstrap[9]: Time 1914.126138 seconds, bootstrap likelihood -4549.601366, best rearrangement setting 10\r\n",
      "\n",
      "Overall Time for 10 Bootstraps 23676.934251\r\n",
      "\n",
      "Average Time per Bootstrap 2367.693425\r\n",
      "All 10 bootstrapped trees written to: /project/physcraper/pg_55_test/run_pg_55tree5864/RAxML_bootstrap.BOOT2021-10-26\r\n",
      "\n",
      "/==========================================================================\\\r\n",
      "|                                 SumTrees                                 |\r\n",
      "|                     Phylogenetic Tree Summarization                      |\r\n",
      "|                              Version 4.5.2                               |\r\n",
      "|                   By Jeet Sukumaran and Mark T. Holder                   |\r\n",
      "|        Using: DendroPy 4.5.2 (main-04647c6, 2021-10-12 19:19:24)         |\r\n",
      "+--------------------------------------------------------------------------+\r\n",
      "|                                 Citation                                 |\r\n",
      "|                                 ~~~~~~~~                                 |\r\n",
      "| If any stage of your work or analyses relies on code or programs from    |\r\n",
      "| this library, either directly or indirectly (e.g., through usage of your |\r\n",
      "| own or third-party programs, pipelines, or toolkits which use, rely on,  |\r\n",
      "| incorporate, or are otherwise primarily derivative of code/programs in   |\r\n",
      "| this library), please cite:                                              |\r\n",
      "|                                                                          |\r\n",
      "|   Sukumaran, J and MT Holder. 2010. DendroPy: a Python library for       |\r\n",
      "|     phylogenetic computing. Bioinformatics 26: 1569-1571.                |\r\n",
      "|                                                                          |\r\n",
      "|   Sukumaran, J and MT Holder. SumTrees: Phylogenetic Tree Summarization. |\r\n",
      "|     4.5.2. Available at https://github.com/jeetsukumaran/DendroPy.       |\r\n",
      "|                                                                          |\r\n",
      "| Note that, in the interests of scientific reproducibility, you should    |\r\n",
      "| describe in the text of your publications not only the specific          |\r\n",
      "| version of the SumTrees program, but also the DendroPy library used in   |\r\n",
      "| your analysis. For your information, you are running DendroPy 4.5.2      |\r\n",
      "| (main-04647c6, 2021-10-12 19:19:24).                                     |\r\n",
      "\\==========================================================================/\r\n",
      "\n",
      "SumTrees: Trees to be read from 1 source(s):\r\n",
      "SumTrees: - '/project/physcraper/pg_55_test/run_pg_55tree5864/RAxML_bootstrap.\r\n",
      "            BOOT2021-10-26'\r\n",
      "SumTrees: Running in serial mode\r\n",
      "SumTrees: Analyzing: '/project/physcraper/pg_55_test/run_pg_55tree5864/RAxML_bootstrap.BOOT2021-10-26'\r\n",
      "SumTrees: '/project/physcraper/pg_55_test/run_pg_55tree5864/RAxML_bootstrap.BOOT2021-10-26': tree at offset 0 (analyzing)\r\n",
      "SumTrees: Analysis of source trees completed in: 0.043515 seconds\r\n",
      "SumTrees: Total of 10 trees analyzed for summarization:\r\n",
      "SumTrees: - All trees were treated as unweighted\r\n",
      "SumTrees: - All trees were unrooted\r\n",
      "SumTrees: - 34 unique taxa across all trees\r\n",
      "SumTrees: - 109 unique splits out of a total of 660 splits\r\n",
      "SumTrees: - 74 unique non-trivial splits counted out of a total of non-trivial\r\n",
      "            310 splits\r\n",
      "SumTrees: Summarizing onto target tree defined in '/project/physcraper/pg_55_test/run_pg_55tree5864/RAxML_bestTree.2021-10-26':\r\n",
      "SumTrees: - Support values expressed as proportions or probabilities\r\n",
      "SumTrees: [WARNING] Reporting support by proportions require that support will\r\n",
      "          be reported to at least 2 decimal places\r\n",
      "SumTrees: - Edge lengths as given on target trees\r\n",
      "SumTrees: - Support and other summarization annotations added to target trees\r\n",
      "            as metadata\r\n",
      "SumTrees: Collapsing clades or splits with support frequency less than 0.2\r\n",
      "SumTrees: Writing primary results to: '<stdout>'\r\n",
      "SumTrees: Summarization completed\r\n",
      "SumTrees: Started at: 2021-10-26 23:30:28.675828\r\n",
      "SumTrees: Ended at: 2021-10-26 23:30:28.891434\r\n",
      "SumTrees: Total elapsed time: 0.215606 seconds\r\n",
      "SumTrees: Actual analysis time: 0.043515 seconds\r\n",
      "Rooting tree based on taxon relationships in OpenTree taxonomy.\r\n",
      "Root will be MRCA of Argyrodendron peralatum ott269815, Pachira aquatica ott84784\r\n",
      "Tree file written to /project/physcraper/pg_55_test/outputs_pg_55tree5864/updated_taxonname.tre\r\n",
      "Tree file written to /project/physcraper/pg_55_test/outputs_pg_55tree5864/labelled_pg_55tree5864.tre\r\n",
      "\n",
      "real 395m10.226s\r\n",
      "user 709m54.184s\r\n",
      "sys 0m46.785s\r\n"
     ]
    }
   ],
   "source": [
    "time physcraper_run.py --study_id pg_55 --tree_id tree5864 --treebase --bootstrap_reps 2 --output pg_55_test"
   ]
  },
  {
   "cell_type": "code",
   "execution_count": null,
   "metadata": {},
   "outputs": [],
   "source": []
  }
 ],
 "metadata": {
  "kernelspec": {
   "display_name": "opentree",
   "language": "python",
   "name": "opentree"
  },
  "language_info": {
   "codemirror_mode": {
    "name": "ipython",
    "version": 3
   },
   "file_extension": ".py",
   "mimetype": "text/x-python",
   "name": "python",
   "nbconvert_exporter": "python",
   "pygments_lexer": "ipython3",
   "version": "3.7.3"
  }
 },
 "nbformat": 4,
 "nbformat_minor": 2
}
