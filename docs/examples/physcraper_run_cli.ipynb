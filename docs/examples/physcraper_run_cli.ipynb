{
 "cells": [
  {
   "cell_type": "markdown",
   "metadata": {},
   "source": [
    "## 1. Find a tree to update\n",
    "\n",
    "#### 1.a.  Use the command `find_trees.py` and the name of your organism of interest"
   ]
  },
  {
   "cell_type": "code",
   "execution_count": 1,
   "metadata": {},
   "outputs": [
    {
     "name": "stdout",
     "output_type": "stream",
     "text": [
      "OTT id 187219\n",
      "Gathering references (slow)\n",
      ".......\n"
     ]
    }
   ],
   "source": [
    "find_trees.py -t bufo -tb -o bufo.txt\n",
    "# -t indicates the taxon name that you want to update\n",
    "# -tb indicates that you want to find a tree that has an alignment availabe on TreeBASE\n",
    "# -o indicates the name of the output file"
   ]
  },
  {
   "cell_type": "markdown",
   "metadata": {},
   "source": [
    "Note that the first line printed to screen is the OTT id of our taxa of interest. Write it down, it will be useful for the next step!"
   ]
  },
  {
   "cell_type": "markdown",
   "metadata": {},
   "source": [
    "#### 1.b. Explore the output file with `less`, `cat`, or `more`. In our case it is called `bufo.txt`:"
   ]
  },
  {
   "cell_type": "code",
   "execution_count": 2,
   "metadata": {},
   "outputs": [
    {
     "name": "stdout",
     "output_type": "stream",
     "text": [
      "Members of bufo present in the following studies in the OpenTree Phylesystem\n",
      "Only returning studies with TreeBase links\n",
      "\n",
      "Study pg_423 tree(s) tree2857\n",
      "OpenTreeUrl: https://tree.opentreeoflife.org/curator/study/view/pg_423\n",
      "Reference: Pyron, R.A., & Wiens J.J. 2011. A large-scale phylogeny of Amphibia including over 2800 species, and a revised classification of extant frogs, salamanders, and caecilians. Molecular Phylogenetics Evolution 61 (2): 543-583.\n",
      "Data Deposit URL: http://purl.org/phylo/treebase/phylows/study/TB2:S11742\n",
      "bufo.txt (END)\n"
     ]
    }
   ],
   "source": [
    "less bufo.txt"
   ]
  },
  {
   "cell_type": "markdown",
   "metadata": {},
   "source": [
    "#### 1.c) Get the OpenTree study ID and tree ID of the tree you choose to update\n",
    "\n",
    "We only have one choice of study to update, it has study id `pg_423`, and tree id `tree2857`. We will use these ids on the next step."
   ]
  },
  {
   "cell_type": "markdown",
   "metadata": {},
   "source": [
    "## 2. Download the tree and alignment\n",
    "\n",
    "**2.a. Use the command `physcraper_run.py` with the `--no_est` option to automatically download the tree and alignment only**"
   ]
  },
  {
   "cell_type": "code",
   "execution_count": 3,
   "metadata": {},
   "outputs": [
    {
     "name": "stdout",
     "output_type": "stream",
     "text": [
      "No config file, using defaults\r\n",
      "Configuration Settings\r\n",
      "[blast]\r\n",
      "Entrez.email = None\r\n",
      "e_value_thresh = 1e-05\r\n",
      "hitlist_size = 10\r\n",
      "location = remote\r\n",
      "localblastdb = None\r\n",
      "num_threads = 4\r\n",
      "delay = 90\r\n",
      "[physcraper]\r\n",
      "spp_threshold = 5\r\n",
      "min_length = 0.8\r\n",
      "max_length = 1.2\r\n",
      "\n",
      "downloading best match alignment from treebase to pg_423.2/pg_423tree2857.aln\r\n",
      "https://raw.githubusercontent.com/TreeBASE/supertreebase/master/data/treebase/S11742.xml\r\n",
      "get_mrca_ott\r\n"
     ]
    }
   ],
   "source": [
    "time physcraper_run.py --study_id pg_423 --tree_id tree2857 --treebase --no_est --output /project/linked_dir/bufo_pg_423\n",
    "# --study_id indicates the OpenTree study ID of the tree to update\n",
    "# --tree_id indicates the OpenTree tree ID of the tree to update\n",
    "# --treebase indicates to automatically download a corresponding alignment from treeBASE\n",
    "# -no_est indicates that you just want to download tree and alignment\n",
    "# --bootstrap reps indicates the number of bootstrap reps to perform\n",
    "# --output indicates the name of the directory that will save results from the update analysis"
   ]
  },
  {
   "cell_type": "markdown",
   "metadata": {},
   "source": [
    "**2.b. Manually downloading the aligment**\n",
    "\n",
    "Often, the automatic alignment download does not work. For example, running the following for *Plasmodium*: \n",
    "\n",
    "```\n",
    "physcraper_run.py --study_id ot_766 --tree_id Tr85440 --treebase --no_est --output ot_766\n",
    "```\n",
    "\n",
    "\n",
    "we obtained the following error message:\n",
    "\n",
    "```\n",
    "ERROR: Problems reading the input data from treebase:\n",
    "DENDROPY ERROR:'HTTP Error 404: Not Found'\n",
    "\n",
    "It appears this may not be a DNA alignment - physcraper can only use DNA currently.\n",
    "Investigate, and potentialy download alignment directly at\n",
    "https://raw.githubusercontent.com/TreeBASE/supertreebase/master/data/treebase/S16424.xml\n",
    "```\n",
    "\n",
    "To be able to do a full Physcraper run for this tree and alignment, we will have to download the alignment manually. \n",
    "\n",
    "- The Physcraper error message gives us a URL from which we can get the information needed to download the alignment for TreeBASE. The TreeBASE study id is the alphanumeric string right before the `.xml` extension. In the case of this example, it is `S16424`. \n",
    "\n",
    "- Now, go to TreeBASE at www.treebase.org. Type down or paste the TreeBASE study id (S16424 in this example) in the treeBASE search bar. Make sure to choose search by study_id option.\n",
    "\n",
    "- The treeBASE search will take you to the study homepage. Go to the `Matrices` tab and pick a nucleic acid alignment. \n",
    "\n",
    "- Download the \"reconstructed nexus\" file instead of the one marked as \"original\" and save it in your computer. If you are using a Physcraper docker, save it in the `linked_dir` folder. \n"
   ]
  },
  {
   "cell_type": "code",
   "execution_count": 3,
   "metadata": {},
   "outputs": [
    {
     "name": "stdout",
     "output_type": "stream",
     "text": [
      "physcraperdocker_link\n",
      "\n",
      "root@6a1b02905a5d:/project/physcraper# "
     ]
    }
   ],
   "source": [
    "Add troubleshooting to Lucia's error on the reconstructed nexus"
   ]
  },
  {
   "cell_type": "markdown",
   "metadata": {},
   "source": [
    "**2.c. Check the downloaded alignment and tree**\n",
    "\n",
    "Manually verify that the tree and alignment correspond to the same organism, and that you have the alignment that you want to update.\n"
   ]
  },
  {
   "cell_type": "markdown",
   "metadata": {},
   "source": [
    "## 3. Run a full Physcraper update!\n",
    "\n",
    "Now we have downloaded the alignment, and we can leave out the `--treebase` flag and give the path to our alignment with the flag `--alignment`. We have to also specify the format of our alignment (nexus or fasta) following the `--aln_schema` flag."
   ]
  },
  {
   "cell_type": "code",
   "execution_count": 3,
   "metadata": {},
   "outputs": [
    {
     "name": "stdout",
     "output_type": "stream",
     "text": [
      "No config file, using defaults\r\n",
      "Configuration Settings\r\n",
      "[blast]\r\n",
      "Entrez.email = None\r\n",
      "e_value_thresh = 1e-05\r\n",
      "hitlist_size = 10\r\n",
      "location = remote\r\n",
      "localblastdb = None\r\n",
      "num_threads = 4\r\n",
      "delay = 90\r\n",
      "[physcraper]\r\n",
      "spp_threshold = 5\r\n",
      "min_length = 0.8\r\n",
      "max_length = 1.2\r\n",
      "\n"
     ]
    }
   ],
   "source": [
    "time physcraper_run.py --study_id pg_423 --tree_id tree2857 --search_taxon ott:187219 --alignment /project/linked_dir/bufo_pg_423/pg_423tree2857.aln --aln_schema nexus --bootstrap_reps 2 --output /project/linked_dir/bufo_pg_423\n",
    "# --study_id indicates the OpenTree study ID of the tree to update\n",
    "# --tree_id indicates the OpenTree tree ID of the tree to update\n",
    "# --search_taxon indicates the taxon OTT ID that we want to update\n",
    "# --alignment indicates the local path to the downloaded alignment\n",
    "# --aln_schema indicates the format of the downloaded alignment\n",
    "# --bootstrap reps indicates the number of bootstrap reps to perform\n",
    "# --output indicates the name of the directory that will save results from the update analysis"
   ]
  },
  {
   "cell_type": "markdown",
   "metadata": {},
   "source": [
    "This will take a while, especially because BLAST searches are time consuming!"
   ]
  }
 ],
 "metadata": {
  "kernelspec": {
   "display_name": "opentree",
   "language": "python",
   "name": "opentree"
  },
  "language_info": {
   "codemirror_mode": {
    "name": "ipython",
    "version": 3
   },
   "file_extension": ".py",
   "mimetype": "text/x-python",
   "name": "python",
   "nbconvert_exporter": "python",
   "pygments_lexer": "ipython3",
   "version": "3.7.3"
  }
 },
 "nbformat": 4,
 "nbformat_minor": 2
}
