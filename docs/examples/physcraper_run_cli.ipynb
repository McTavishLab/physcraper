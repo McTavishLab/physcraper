{
 "cells": [
  {
   "cell_type": "markdown",
   "metadata": {},
   "source": [
    "## 1. Find a tree to update\n",
    "\n",
    "#### 1.a)  Use the command `find_trees.py`"
   ]
  },
  {
   "cell_type": "code",
   "execution_count": 1,
   "metadata": {},
   "outputs": [
     {
      "name": "stdout",
      "output_type": "stream",
      "text": [
        "OTT id 187219\n",
        "Gathering references (slow)\n",
        ".......\n"
      ]
     }

   ],
   "source": [
    "find_trees.py -t bufo -tb -o bufo.txt\n",
    "# -t indicates the taxon name that you want to update\n",
    "# -tb indicates that you want to find a tree that has an alignment availabe on TreeBASE\n",
    "# -o indicates the name of the output file"
   ]
  },
  {
   "cell_type": "markdown",
   "metadata": {},
   "source": [
    "#### 1.b) Read the output file with `less`, in this case it is called `bufo.txt"
   ]
  },
  {
   "cell_type": "code",
   "execution_count": 2,
   "metadata": {},
   "outputs": [
    {
      "name": "stdout",
      "output_type": "stream",
      "text": [
        "Members of bufo present in the following studies in the OpenTree Phylesystem\n",
        "Only returning studies with TreeBase links\n",
        "\n",
        "Study pg_423 tree(s) tree2857\n",
        "OpenTreeUrl: https://tree.opentreeoflife.org/curator/study/view/pg_423\n",
        "Reference: Pyron, R.A., & Wiens J.J. 2011. A large-scale phylogeny of Amphibia including over 2800 species, and a revised classification of extant frogs, salamanders, and caecilians. Molecular Phylogenetics Evolution 61 (2): 543-583.\n",
        "Data Deposit URL: http://purl.org/phylo/treebase/phylows/study/TB2:S11742\n",
        "bufo.txt (END)\n"
      ]
    }
   ],
   "source": [
    "less bufo.txt"
   ]
  },
  {
   "cell_type": "markdown",
   "metadata": {},
   "source": [
    "Members of bufo present in the following studies in the OpenTree Phylesystem\n",
    "Only returning studies with TreeBase links\n",
    "\n",
    "Study pg_423 tree(s) tree2857\n",
    "OpenTreeUrl: https://tree.opentreeoflife.org/curator/study/view/pg_423\n",
    "Reference: Pyron, R.A., & Wiens J.J. 2011. A large-scale phylogeny of Amphibia including over 2800 species, and a revised classification of extant frogs, salamanders, and caecilians. Molecular Phylogenetics Evolution 61 (2): 543-583.\n",
    "Data Deposit URL: http://purl.org/phylo/treebase/phylows/study/TB2:S11742\n",
    "bufo.txt (END)"
   ]
  },
  {
   "cell_type": "markdown",
   "metadata": {},
   "source": [
    "#### 1.c) Get the OpenTree study ID and tree ID for your tree of choice\n",
    "\n",
    "In this case, I only have one choice, it is pg_423 and tree2857"
   ]
  },
  {
   "cell_type": "markdown",
   "metadata": {},
   "source": [
    "## 2. Run the update\n",
    "\n",
    "#### 1.a)  Use the command `physcraper_run.py`"
   ]
  },
  {
   "cell_type": "code",
   "execution_count": 3,
   "metadata": {},
   "outputs": [
    {
     "ename": "SyntaxError",
     "evalue": "invalid syntax (<ipython-input-4-829c662cf161>, line 1)",
     "output_type": "error",
     "traceback": [
      "In progress...\n"
     ]
    }
   ],
   "source": [
    "time physcraper_run.py --study_id pg_423 --tree_id tree2857 --treebase --bootstrap_reps 2 --output pg_423\n",
    "# --study_id indicates the OpenTree study ID of the tree to update\n",
    "# --tree_id indicates the OpenTree tree ID of the tree to update\n",
    "# --treebase indicates to automatically download a corresponding alignment from treeBASE\n",
    "# --bootstrap reps indicates the number of bootstrap reps to perform\n",
    "# --output indicates the name of the directory that will save results from the update analysis"
   ]
  },
  {
   "cell_type": "markdown",
   "metadata": {},
   "source": [
    "This will take a while, especially because BLAST searches are time consuming!"
   ]
  }
 ],
 "metadata": {
  "kernelspec": {
   "display_name": "opentree",
   "language": "python",
   "name": "opentree"
  },
  "language_info": {
   "codemirror_mode": {
    "name": "ipython",
    "version": 3
   },
   "file_extension": ".py",
   "mimetype": "text/x-python",
   "name": "python",
   "nbconvert_exporter": "python",
   "pygments_lexer": "ipython3",
   "version": "3.7.3"
  }
 },
 "nbformat": 4,
 "nbformat_minor": 2
}
